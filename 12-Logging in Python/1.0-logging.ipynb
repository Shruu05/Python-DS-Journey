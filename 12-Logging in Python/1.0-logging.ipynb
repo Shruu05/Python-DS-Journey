{
 "cells": [
  {
   "cell_type": "code",
   "execution_count": 2,
   "id": "e5ff0354",
   "metadata": {},
   "outputs": [],
   "source": [
    "import logging"
   ]
  },
  {
   "cell_type": "code",
   "execution_count": 3,
   "id": "f502a06d",
   "metadata": {},
   "outputs": [
    {
     "name": "stderr",
     "output_type": "stream",
     "text": [
      "DEBUG:root:This is debug message\n",
      "INFO:root:This is info message\n",
      "WARNING:root:This is warning message\n",
      "ERROR:root:This is error message\n",
      "CRITICAL:root:This is critical message\n"
     ]
    }
   ],
   "source": [
    "# configuring basic logging settings\n",
    "logging.basicConfig(level=logging.DEBUG)\n",
    "\n",
    "#log messages with different severity levels\n",
    "logging.debug('This is debug message')\n",
    "logging.info('This is info message')\n",
    "logging.warning('This is warning message')\n",
    "logging.error('This is error message')\n",
    "logging.critical('This is critical message')"
   ]
  },
  {
   "cell_type": "code",
   "execution_count": 7,
   "id": "183c8ad0",
   "metadata": {},
   "outputs": [],
   "source": [
    "#cofiguring logging\n",
    "logging.basicConfig(\n",
    "    level=logging.DEBUG,\n",
    "    format='%(asctime)s-%(levelname)s-%(message)s',\n",
    "    date= '%Y-%m-%d-%H:%M:%S'\n",
    ")\n"
   ]
  },
  {
   "cell_type": "code",
   "execution_count": 6,
   "id": "9fc32fec",
   "metadata": {},
   "outputs": [
    {
     "name": "stderr",
     "output_type": "stream",
     "text": [
      "DEBUG:root:This is debug message\n",
      "INFO:root:This is info message\n",
      "WARNING:root:This is warning message\n",
      "ERROR:root:This is error message\n",
      "CRITICAL:root:This is critical message\n"
     ]
    }
   ],
   "source": [
    "#log messages with different severity levels\n",
    "logging.debug('This is debug message')\n",
    "logging.info('This is info message')\n",
    "logging.warning('This is warning message')\n",
    "logging.error('This is error message')\n",
    "logging.critical('This is critical message')"
   ]
  },
  {
   "cell_type": "code",
   "execution_count": 11,
   "id": "ded820e0",
   "metadata": {},
   "outputs": [
    {
     "name": "stderr",
     "output_type": "stream",
     "text": [
      "DEBUG:root:This is debug message\n",
      "INFO:root:This is info message\n",
      "WARNING:root:This is warning message\n",
      "ERROR:root:This is error message\n",
      "CRITICAL:root:This is critical message\n"
     ]
    }
   ],
   "source": [
    "logging.basicConfig(\n",
    "    filename='app.log',\n",
    "    filemode='w',\n",
    "    level=logging.DEBUG,\n",
    "    format='%(asctime)s-%(levelname)s-%(message)s',\n",
    "    date= '%Y-%m-%d-%H:%M:%S'\n",
    ")\n",
    "#log messages with different severity levels\n",
    "logging.debug('This is debug message')\n",
    "logging.info('This is info message')\n",
    "logging.warning('This is warning message')\n",
    "logging.error('This is error message')\n",
    "logging.critical('This is critical message')"
   ]
  },
  {
   "cell_type": "code",
   "execution_count": null,
   "id": "5706d04f",
   "metadata": {},
   "outputs": [],
   "source": []
  }
 ],
 "metadata": {
  "kernelspec": {
   "display_name": "Python 3",
   "language": "python",
   "name": "python3"
  },
  "language_info": {
   "codemirror_mode": {
    "name": "ipython",
    "version": 3
   },
   "file_extension": ".py",
   "mimetype": "text/x-python",
   "name": "python",
   "nbconvert_exporter": "python",
   "pygments_lexer": "ipython3",
   "version": "3.12.0"
  }
 },
 "nbformat": 4,
 "nbformat_minor": 5
}
