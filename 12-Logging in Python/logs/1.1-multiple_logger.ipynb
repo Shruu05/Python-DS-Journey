{
 "cells": [
  {
   "cell_type": "code",
   "execution_count": 1,
   "id": "2340bfb0",
   "metadata": {},
   "outputs": [],
   "source": [
    "import logging"
   ]
  },
  {
   "cell_type": "code",
   "execution_count": 3,
   "id": "16bdf823",
   "metadata": {},
   "outputs": [
    {
     "name": "stderr",
     "output_type": "stream",
     "text": [
      "2025-06-15 12:24:52,303-module1-DEBUG-This is debug message for module1\n",
      "2025-06-15 12:24:52,306-odule2-WARNING-This is warning message for module2\n"
     ]
    }
   ],
   "source": [
    "# create logger for module1\n",
    "logger1 = logging.getLogger(\"module1\")\n",
    "logger1.setLevel(logging.DEBUG)\n",
    " \n",
    "#create logger ffor module2\n",
    "logger2 = logging.getLogger(\"odule2\")\n",
    "logger2.setLevel(logging.WARNING)\n",
    "\n",
    "#configure logging settings\n",
    "logging.basicConfig(\n",
    "    level= logging.DEBUG,\n",
    "    format='%(asctime)s-%(name)s-%(levelname)s-%(message)s',\n",
    "    date='%Y-%m-%d %H:%M'\n",
    ")\n",
    "\n",
    "# log message with different severity leevel\n",
    "logger1.debug('This is debug message for module1')\n",
    "logger2.warning('This is warning message for module2')"
   ]
  },
  {
   "cell_type": "code",
   "execution_count": null,
   "id": "a91b9588",
   "metadata": {},
   "outputs": [],
   "source": []
  }
 ],
 "metadata": {
  "kernelspec": {
   "display_name": "Python 3",
   "language": "python",
   "name": "python3"
  },
  "language_info": {
   "codemirror_mode": {
    "name": "ipython",
    "version": 3
   },
   "file_extension": ".py",
   "mimetype": "text/x-python",
   "name": "python",
   "nbconvert_exporter": "python",
   "pygments_lexer": "ipython3",
   "version": "3.12.0"
  }
 },
 "nbformat": 4,
 "nbformat_minor": 5
}
