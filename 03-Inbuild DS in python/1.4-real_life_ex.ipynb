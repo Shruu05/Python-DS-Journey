{
 "cells": [
  {
   "cell_type": "markdown",
   "metadata": {},
   "source": [
    "1. To Do List"
   ]
  },
  {
   "cell_type": "code",
   "execution_count": 9,
   "metadata": {},
   "outputs": [
    {
     "name": "stdout",
     "output_type": "stream",
     "text": [
      "['Buy Groceries', 'Clean The House', 'Pay Bills']\n",
      "['Buy Groceries', 'Pay Bills', 'Schedule meeting', 'Go for Run']\n",
      "Dont forget to pay bills\n",
      "to do list remaining\n",
      "-Buy Groceries\n",
      "-Pay Bills\n",
      "-Schedule meeting\n",
      "-Go for Run\n"
     ]
    }
   ],
   "source": [
    "to_do_list = [\"Buy Groceries\", \"Clean The House\", \"Pay Bills\"]\n",
    "print(to_do_list)\n",
    "# Adding task\n",
    "to_do_list.append(\"Schedule meeting\")\n",
    "to_do_list.append(\"Go for Run\")\n",
    "# Removing a completed task\n",
    "to_do_list.remove(\"Clean The House\")\n",
    "print(to_do_list)\n",
    "# Checking if a task is in the list\n",
    "if \"Pay Bills\" in to_do_list:\n",
    "    print(\"Dont forget to pay bills\")\n",
    "print(\"to do list remaining\")\n",
    "for task in to_do_list:\n",
    "    print(f\"-{task}\")\n"
   ]
  },
  {
   "cell_type": "markdown",
   "metadata": {},
   "source": [
    "2. Create list to store and calculate grades for students"
   ]
  },
  {
   "cell_type": "code",
   "execution_count": 11,
   "metadata": {},
   "outputs": [
    {
     "name": "stdout",
     "output_type": "stream",
     "text": [
      "[85, 92, 78, 90, 88, 95]\n",
      "Average Grade:88.00\n",
      "Highest Value:95\n",
      "Lowest Value:78\n"
     ]
    }
   ],
   "source": [
    "# Oraganizing student grades\n",
    "grades = [85,92,78,90,88]\n",
    "# Adding a new grade\n",
    "grades.append(95)\n",
    "print(grades)\n",
    "# Calculating the average grade \n",
    "avg_grades = sum(grades)/len(grades)\n",
    "print(f\"Average Grade:{avg_grades:.2f}\")\n",
    "# Finding highest and lowest grades\n",
    "highest_grade = max(grades)\n",
    "lowest_grade = min(grades)\n",
    "print(f\"Highest Value:{highest_grade}\")\n",
    "print(f\"Lowest Value:{lowest_grade}\")\n"
   ]
  },
  {
   "cell_type": "markdown",
   "metadata": {},
   "source": [
    "3. Managing a inventry "
   ]
  },
  {
   "cell_type": "code",
   "execution_count": 12,
   "metadata": {},
   "outputs": [
    {
     "name": "stdout",
     "output_type": "stream",
     "text": [
      "['apples', 'bananas', 'oranges', 'grapes']\n",
      "['apples', 'bananas', 'oranges', 'grapes', 'strwberries']\n",
      "['apples', 'oranges', 'grapes', 'strwberries']\n",
      "oranges are in stock\n",
      "Inventry List:\n",
      "-apples\n",
      "-oranges\n",
      "-grapes\n",
      "-strwberries\n"
     ]
    }
   ],
   "source": [
    "inventry = [\"apples\", \"bananas\", \"oranges\", \"grapes\"]\n",
    "print(inventry)\n",
    "# Adding new item\n",
    "inventry.append(\"strwberries\")\n",
    "print(inventry)\n",
    "# Removing item out of stock\n",
    "inventry.remove(\"bananas\")\n",
    "print(inventry)\n",
    "# Checking if an item is in stock\n",
    "item = \"oranges\"\n",
    "if item in inventry:\n",
    "    print(f\"{item} are in stock\")\n",
    "else:\n",
    "    print(f\"{item} are out of stock\")\n",
    "# print the inventry\n",
    "print(\"Inventry List:\")\n",
    "for item in inventry:\n",
    "    print(f\"-{item}\")"
   ]
  },
  {
   "cell_type": "markdown",
   "metadata": {},
   "source": [
    "4. Collecting user feedback"
   ]
  },
  {
   "cell_type": "code",
   "execution_count": null,
   "metadata": {},
   "outputs": [],
   "source": [
    "# collecting feedback\n",
    "list_feedback = []\n",
    "while True:\n",
    "    feedbacks = input(\"Give us a feedback\")\n",
    "    if feedbacks.lower == 'done':\n",
    "        break\n",
    "    list_feedback.append(feedbacks)\n",
    "print(list_feedback)"
   ]
  },
  {
   "cell_type": "code",
   "execution_count": null,
   "metadata": {},
   "outputs": [],
   "source": []
  }
 ],
 "metadata": {
  "kernelspec": {
   "display_name": "venv",
   "language": "python",
   "name": "python3"
  },
  "language_info": {
   "codemirror_mode": {
    "name": "ipython",
    "version": 3
   },
   "file_extension": ".py",
   "mimetype": "text/x-python",
   "name": "python",
   "nbconvert_exporter": "python",
   "pygments_lexer": "ipython3",
   "version": "3.12.0"
  }
 },
 "nbformat": 4,
 "nbformat_minor": 2
}
