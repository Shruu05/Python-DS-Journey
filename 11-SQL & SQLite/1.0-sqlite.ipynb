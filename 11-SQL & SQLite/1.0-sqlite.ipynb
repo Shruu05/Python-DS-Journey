{
 "cells": [
  {
   "cell_type": "code",
   "execution_count": 4,
   "id": "19606215",
   "metadata": {},
   "outputs": [],
   "source": [
    "import sqlite3"
   ]
  },
  {
   "cell_type": "code",
   "execution_count": 5,
   "id": "f0df68a5",
   "metadata": {},
   "outputs": [
    {
     "data": {
      "text/plain": [
       "<sqlite3.Connection at 0x23cc83395d0>"
      ]
     },
     "execution_count": 5,
     "metadata": {},
     "output_type": "execute_result"
    }
   ],
   "source": [
    "# connect to sqlite database\n",
    "connection = sqlite3.connect('example.db')\n",
    "connection"
   ]
  },
  {
   "cell_type": "code",
   "execution_count": 6,
   "id": "167826a6",
   "metadata": {},
   "outputs": [],
   "source": [
    "cursor = connection.cursor()"
   ]
  },
  {
   "cell_type": "code",
   "execution_count": 15,
   "id": "6a362e23",
   "metadata": {},
   "outputs": [
    {
     "data": {
      "text/plain": [
       "<sqlite3.Cursor at 0x23cc7f283c0>"
      ]
     },
     "execution_count": 15,
     "metadata": {},
     "output_type": "execute_result"
    }
   ],
   "source": [
    "#create table\n",
    "cursor.execute('''\n",
    "Create Table If Not Exists employees(\n",
    "    id  integer Primary Key,\n",
    "    name Text Not Null,\n",
    "    age Integer\n",
    ")\n",
    "''')\n",
    "\n",
    "# commit the changes\n",
    "connection.commit()\n",
    "\n",
    "cursor.execute('''\n",
    "Select * from employees\n",
    "''')\n"
   ]
  },
  {
   "cell_type": "code",
   "execution_count": 18,
   "id": "74f98969",
   "metadata": {},
   "outputs": [],
   "source": [
    "# insert data in table\n",
    "cursor.execute('''\n",
    "Insert Into employees(name, age)\n",
    "    values('Shruti', 21)\n",
    "''')\n",
    "cursor.execute('''\n",
    "Insert Into employees(name, age)\n",
    "    values('Shravani', 16)\n",
    "''')\n",
    "cursor.execute('''\n",
    "Insert Into employees(name, age)\n",
    "    values('Anuj', 16)\n",
    "''')\n",
    "\n",
    "connection.commit()"
   ]
  },
  {
   "cell_type": "code",
   "execution_count": 21,
   "id": "4ad1f601",
   "metadata": {},
   "outputs": [
    {
     "name": "stdout",
     "output_type": "stream",
     "text": [
      "(1, 'Shruti', 21)\n",
      "(2, 'Shravani', 16)\n",
      "(3, 'Anuj', 16)\n",
      "(4, 'Shruti', 21)\n",
      "(5, 'Shravani', 16)\n",
      "(6, 'Anuj', 16)\n",
      "(7, 'Shruti', 21)\n",
      "(8, 'Shravani', 16)\n",
      "(9, 'Anuj', 16)\n"
     ]
    }
   ],
   "source": [
    "# Query the data from table\n",
    "cursor.execute('Select * from employees')\n",
    "rows = cursor.fetchall()\n",
    "\n",
    "for row in rows:\n",
    "    print(row)"
   ]
  },
  {
   "cell_type": "code",
   "execution_count": null,
   "id": "5ce052c3",
   "metadata": {},
   "outputs": [],
   "source": []
  }
 ],
 "metadata": {
  "kernelspec": {
   "display_name": "Python 3",
   "language": "python",
   "name": "python3"
  },
  "language_info": {
   "codemirror_mode": {
    "name": "ipython",
    "version": 3
   },
   "file_extension": ".py",
   "mimetype": "text/x-python",
   "name": "python",
   "nbconvert_exporter": "python",
   "pygments_lexer": "ipython3",
   "version": "3.12.0"
  }
 },
 "nbformat": 4,
 "nbformat_minor": 5
}
