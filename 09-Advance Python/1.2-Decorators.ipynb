{
 "cells": [
  {
   "cell_type": "code",
   "execution_count": 1,
   "metadata": {},
   "outputs": [
    {
     "data": {
      "text/plain": [
       "'Welcomme'"
      ]
     },
     "execution_count": 1,
     "metadata": {},
     "output_type": "execute_result"
    }
   ],
   "source": [
    "# function copy\n",
    "def welcome():\n",
    "    return \"Welcomme\"\n",
    "welcome()"
   ]
  },
  {
   "cell_type": "code",
   "execution_count": 2,
   "metadata": {},
   "outputs": [
    {
     "name": "stdout",
     "output_type": "stream",
     "text": [
      "Welcomme\n"
     ]
    }
   ],
   "source": [
    "wel = welcome\n",
    "print(wel())"
   ]
  },
  {
   "cell_type": "code",
   "execution_count": 3,
   "metadata": {},
   "outputs": [
    {
     "name": "stdout",
     "output_type": "stream",
     "text": [
      "Welcomme\n"
     ]
    }
   ],
   "source": [
    "del welcome\n",
    "print(wel())"
   ]
  },
  {
   "cell_type": "code",
   "execution_count": 7,
   "metadata": {},
   "outputs": [
    {
     "name": "stdout",
     "output_type": "stream",
     "text": [
      "Welcome Home\n",
      "Welcome\n",
      "Sit Down\n"
     ]
    }
   ],
   "source": [
    "# closures\n",
    "def main_welcome():\n",
    "    msg = \"Welcome\" \n",
    "    def sub_welcome():\n",
    "        print(\"Welcome Home\")\n",
    "        print(msg)\n",
    "        print(\"Sit Down\")\n",
    "    return sub_welcome()\n",
    "\n",
    "main_welcome()"
   ]
  },
  {
   "cell_type": "code",
   "execution_count": 16,
   "metadata": {},
   "outputs": [
    {
     "name": "stdout",
     "output_type": "stream",
     "text": [
      "Welcome Home\n",
      "Hii\n",
      "Sit Down\n"
     ]
    }
   ],
   "source": [
    "def main_welcome(func): \n",
    "    def sub_welcome():\n",
    "        print(\"Welcome Home\")\n",
    "        func(\"Hii\")\n",
    "        print(\"Sit Down\")\n",
    "    return sub_welcome()\n",
    "main_welcome(print)"
   ]
  },
  {
   "cell_type": "code",
   "execution_count": 18,
   "metadata": {},
   "outputs": [
    {
     "name": "stdout",
     "output_type": "stream",
     "text": [
      "I am Shruti\n",
      "I am Shruti\n",
      "HII\n"
     ]
    }
   ],
   "source": [
    "# decorator\n",
    "def main_welcome(func): \n",
    "    print(\"HII\")\n",
    "def course_intro():\n",
    "    print(\"I am Shruti\")\n",
    "course_intro()\n",
    "main_welcome(course_intro())"
   ]
  },
  {
   "cell_type": "code",
   "execution_count": 22,
   "metadata": {},
   "outputs": [
    {
     "name": "stdout",
     "output_type": "stream",
     "text": [
      "HII\n"
     ]
    }
   ],
   "source": [
    "def main_welcome(func): \n",
    "    print(\"HII\")\n",
    "@main_welcome\n",
    "def course_intro():\n",
    "    print(\"How are you!\")"
   ]
  },
  {
   "cell_type": "code",
   "execution_count": 24,
   "metadata": {},
   "outputs": [
    {
     "name": "stdout",
     "output_type": "stream",
     "text": [
      "Before func\n",
      "Hello\n",
      "After func\n"
     ]
    }
   ],
   "source": [
    "def my_decorator(func):\n",
    "    def wrapper():\n",
    "        print(\"Before func\")\n",
    "        func()\n",
    "        print(\"After func\")\n",
    "    return wrapper\n",
    "\n",
    "@my_decorator\n",
    "def say_hello():\n",
    "    print(\"Hello\")\n",
    "say_hello()"
   ]
  },
  {
   "cell_type": "code",
   "execution_count": 26,
   "metadata": {},
   "outputs": [
    {
     "name": "stdout",
     "output_type": "stream",
     "text": [
      "Hello\n",
      "Hello\n",
      "Hello\n"
     ]
    }
   ],
   "source": [
    "# Decorators with arguments\n",
    "def repeat(n):\n",
    "    def decorator(func):\n",
    "        def wrapper(*args, **kwargs):\n",
    "            for _ in range(n):\n",
    "                func(*args, **kwargs)\n",
    "        return wrapper\n",
    "    return decorator\n",
    "@repeat(3)\n",
    "def say_hello():\n",
    "    print(\"Hello\")\n",
    "say_hello()     \n",
    "\n"
   ]
  },
  {
   "cell_type": "code",
   "execution_count": null,
   "metadata": {},
   "outputs": [],
   "source": []
  }
 ],
 "metadata": {
  "kernelspec": {
   "display_name": "Python 3",
   "language": "python",
   "name": "python3"
  },
  "language_info": {
   "codemirror_mode": {
    "name": "ipython",
    "version": 3
   },
   "file_extension": ".py",
   "mimetype": "text/x-python",
   "name": "python",
   "nbconvert_exporter": "python",
   "pygments_lexer": "ipython3",
   "version": "3.12.0"
  }
 },
 "nbformat": 4,
 "nbformat_minor": 2
}
