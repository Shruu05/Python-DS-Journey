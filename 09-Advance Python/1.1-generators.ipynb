{
 "cells": [
  {
   "cell_type": "code",
   "execution_count": 4,
   "metadata": {},
   "outputs": [
    {
     "data": {
      "text/plain": [
       "0"
      ]
     },
     "execution_count": 4,
     "metadata": {},
     "output_type": "execute_result"
    }
   ],
   "source": [
    "def square(n):\n",
    "    for i in range(3):\n",
    "        return i**2\n",
    "\n",
    "    \n",
    "square(3)\n"
   ]
  },
  {
   "cell_type": "code",
   "execution_count": 6,
   "metadata": {},
   "outputs": [
    {
     "name": "stdout",
     "output_type": "stream",
     "text": [
      "0\n",
      "1\n",
      "4\n"
     ]
    }
   ],
   "source": [
    "def square(n):\n",
    "    for i in range(3):\n",
    "        yield i**2\n",
    "square(3)\n",
    "for i in square(3):\n",
    "    print(i)"
   ]
  },
  {
   "cell_type": "code",
   "execution_count": 11,
   "metadata": {},
   "outputs": [
    {
     "data": {
      "text/plain": [
       "0"
      ]
     },
     "execution_count": 11,
     "metadata": {},
     "output_type": "execute_result"
    }
   ],
   "source": [
    "a = square(3)\n",
    "next(a)"
   ]
  },
  {
   "cell_type": "code",
   "execution_count": 18,
   "metadata": {},
   "outputs": [
    {
     "name": "stdout",
     "output_type": "stream",
     "text": [
      "2\n",
      "3\n"
     ]
    }
   ],
   "source": [
    "def my_operator():\n",
    "    yield 1\n",
    "    yield 2\n",
    "    yield 3\n",
    "gen = my_operator()\n",
    "gen\n",
    "next(gen)\n",
    "for val in gen:\n",
    "    print(val)"
   ]
  },
  {
   "cell_type": "code",
   "execution_count": 19,
   "metadata": {},
   "outputs": [
    {
     "name": "stdout",
     "output_type": "stream",
     "text": [
      "Anime (Japanese: アニメ, IPA: [aꜜɲime] ⓘ[a]; derived from a shortening of English animation) is hand-drawn and computer-generated animation originating from Japan. Outside Japan and in English, anime refers specifically to animation produced in Japan.[1] However, anime, in Japan and in Japanese, describes all animated works, regardless of style or origin. Many works of animation with a similar style to Japanese animation are also produced outside Japan. Video games sometimes also feature themes and art styles that are sometimes labelled as anime.\n",
      "\n",
      "The earliest commercial Japanese animation dates to 1917. A characteristic art style emerged in the 1960s with the works of cartoonist Osamu Tezuka and spread in the following decades, developing a large domestic audience. Anime is distributed theatrically, through television broadcasts, directly to home media, and over the Internet. In addition to original works, anime are often adaptations of Japanese comics (manga), light novels, or video games. It is classified into numerous genres targeting various broad and niche audiences.[2]\n",
      "\n",
      "Anime is a diverse medium with distinctive production methods that have adapted in response to emergent technologies. It combines graphic art, characterization, cinematography, and other forms of imaginative and individualistic techniques.[3] Compared to Western animation, anime production generally focuses less on movement, and more on the detail of settings and use of \"camera effects\", such as panning, zooming, and angle shots.[3] Diverse art styles are used, and character proportions and features can be quite varied, with a common characteristic feature being large and emotive eyes.[4]\n",
      "\n",
      "The anime industry consists of over 430 production companies, including major studios such as Studio Ghibli, Kyoto Animation, Sunrise, Bones, Ufotable, MAPPA, Wit Studio, CoMix Wave Films, Madhouse, Inc., TMS Entertainment, Pierrot, Production I.G, Nippon Animation and Toei Animation. Since the 1980s, the medium has also seen widespread international success with the rise of foreign dubbed, subtitled programming, and since the 2010s due to the rise of streaming services and a widening demographic embrace of anime culture, both within Japan and worldwide.[5][6] As of 2016, Japanese animation accounted for 60% of the world's animated television shows.[7]\n",
      "\n",
      "Etymology\n",
      "As a type of animation, anime is an art form that comprises many genres found in other mediums; it is sometimes mistakenly classified as a genre itself.[8] In Japanese, the term anime is used to refer to all animated works, regardless of style or origin.[9] English-language dictionaries typically define anime (/ˈænɪmeɪ/)[10] as \"a style of Japanese animation\"[11] or as \"a style of animation originating in Japan\".[12] Other definitions are based on origin, making production in Japan a requisite for a work to be considered \"anime\".[13]\n",
      "\n",
      "The etymology of the term anime is disputed. The English word \"animation\" is written in Japanese katakana as アニメーション (animēshon) and as アニメ (anime, pronounced [a.ɲi.me] ⓘ) in its shortened form.[13] Some sources claim that the term is derived from the French term for animation dessin animé (\"cartoon\", literally 'animated drawing'),[14] but others believe this to be a myth derived from the popularity of anime in France in the late 1970s and 1980s.[13]\n",
      "\n",
      "In English, anime—when used as a common noun—normally functions as a mass noun. (For example: \"Do you watch anime?\" or \"How much anime have you watched?\")[15][16] As with a few other Japanese words, such as saké and Pokémon, English texts sometimes spell anime as animé (as in French), with an acute accent over the final e, to cue the reader to pronounce the letter, not to leave it silent as English orthography may suggest. Prior to the widespread use of anime, the term Japanimation, a portmanteau of Japan and animation, was prevalent throughout the 1970s and 1980s. In the mid-1980s, the term anime began to supplant Japanimation;[17] in general, the latter term now only appears in period works where it is used to distinguish and identify Japanese animation.[18]\n",
      "\n",
      "History\n",
      "Main article: History of anime\n",
      "Precursors\n",
      "Emakimono and shadow plays (kage-e) are considered precursors of Japanese animation.[19] Emakimono was common in the eleventh century. Traveling storytellers narrated legends and anecdotes while the emakimono was unrolled from the right to left in chronological order, as a moving panorama.[19] Kage-e was popular during the Edo period and originated from the shadow plays of China.[19] Magic lanterns from the Netherlands were also popular in the eighteenth century.[19] The paper play called kamishibai surged in the twelfth century and remained popular in the street theater until the 1930s.[19] Puppets of the Bunraku theater and ukiyo-e prints are considered ancestors of characters of most Japanese animation.[19] Finally, manga were a heavy inspiration for anime. Cartoonists Kitzawa Rakuten and Okamoto Ippei used film elements in their strips.[19]\n",
      "\n",
      "Pioneers\n",
      "Duration: 4 minutes and 19 seconds.4:19\n",
      "Namakura Gatana (1917), the oldest surviving Japanese animated short film made for cinemas\n",
      "Animation in Japan began in the early 20th century, when filmmakers started to experiment with techniques pioneered in France, Germany, the United States, and Russia.[20] A claim for the earliest Japanese animation is Katsudō Shashin (c. 1907),[21] a private work by an unknown creator.[22] In 1917, the first professional and publicly displayed works began to appear; animators such as Ōten Shimokawa, Seitarō Kitayama, and Jun'ichi Kōuchi (considered the \"fathers of anime\") produced numerous films, the oldest surviving of which is Kōuchi's Namakura Gatana.[23] Many early works were lost with the destruction of Shimokawa's warehouse in the 1923 Great Kantō earthquake.[24]\n",
      "\n",
      "By the mid-1930s, animation was well-established in Japan as an alternative format to the live-action industry. It suffered competition from foreign producers, such as Disney, and many animators, including Noburō Ōfuji and Yasuji Murata, continued to work with cheaper cutout animation rather than cel animation.[25] Other creators, including Kenzō Masaoka and Mitsuyo Seo, nevertheless made great strides in technique, benefiting from the patronage of the government, which employed animators to produce educational shorts and propaganda.[26] In 1940, the government dissolved several artists' organizations to form the Shin Nippon Mangaka Kyōkai.[b][27] The first talkie anime was Chikara to Onna no Yo no Naka (1933), a short film produced by Masaoka.[28][29] The first feature-length anime film was Momotaro: Sacred Sailors (1945), produced by Seo with a sponsorship from the Imperial Japanese Navy.[30] The 1950s saw a proliferation of short, animated advertisements created for television.[31]\n",
      "\n",
      "Modern era\n",
      "\n",
      "Frame from the opening sequence of Tezuka's 1963 TV series Astro Boy\n",
      "In the 1960s, manga artist and animator Osamu Tezuka adapted and simplified Disney animation techniques to reduce costs and limit frame counts in his productions.[32] Originally intended as temporary measures to allow him to produce material on a tight schedule with inexperienced staff, many of his limited animation practices came to define the medium's style.[33] Three Tales (1960) was the first anime film broadcast on television;[34] the first anime television series was Instant History (1961–64).[35] An early and influential success was Astro Boy (1963–66), a television series directed by Tezuka based on his manga of the same name. Many animators at Tezuka's Mushi Production later established major anime studios (including Madhouse, Sunrise, and Pierrot).\n",
      "\n",
      "The 1970s saw growth in the popularity of manga, many of which were later animated. Tezuka's work—and that of other pioneers in the field—inspired characteristics and genres that remain fundamental elements of anime today. The giant robot genre (also known as \"mecha\"), for instance, took shape under Tezuka, developed into the super robot genre under Go Nagai and others, and was revolutionized at the end of the decade by Yoshiyuki Tomino, who developed the real robot genre.[36] Robot anime series such as Gundam and Super Dimension Fortress Macross became instant classics in the 1980s, and the genre remained one of the most popular in the following decades.[37] The bubble economy of the 1980s spurred a new era of high-budget and experimental anime films, including Nausicaä of the Valley of the Wind (1984), Royal Space Force: The Wings of Honnêamise (1987), and Akira (1988).[38]\n",
      "\n",
      "Neon Genesis Evangelion (1995), a television series produced by Gainax and directed by Hideaki Anno, began another era of experimental anime titles, such as Ghost in the Shell (1995) and Cowboy Bebop (1998). In the 1990s, anime also began attracting greater interest in Western countries; major international successes include Sailor Moon and Dragon Ball Z, both of which were dubbed into more than a dozen languages worldwide. In 2003, Spirited Away, a Studio Ghibli feature film directed by Hayao Miyazaki, won the Academy Award for Best Animated Feature at the 75th Academy Awards. It later became the highest-grossing anime film,[c] earning more than $355 million. Since the 2000s, an increased number of anime works have been adaptations of light novels and visual novels; successful examples include The Melancholy of Haruhi Suzumiya and Fate/stay night (both 2006). Demon Slayer: Kimetsu no Yaiba the Movie: Mugen Train became the highest-grossing Japanese film and one of the world's highest-grossing films of 2020.[39][40] It also became the fastest grossing film in Japanese cinema, because in 10 days it made 10 billion yen ($95.3m; £72m).[40] It beat the previous record of Spirited Away which took 25 days.[40][41][42][43][44]\n",
      "\n",
      "In 2021, the anime adaptations of Jujutsu Kaisen, Demon Slayer: Kimetsu no Yaiba and Tokyo Revengers were among the top 10 most discussed TV shows worldwide on Twitter.[45][46] In 2022, Attack on Titan won the award of \"Most In-Demand TV Series in the World 2021\" in the Global TV Demand Awards. Attack on Titan became the first ever non-English language series to earn the title of World's Most In-Demand TV Show, previously held by only The Walking Dead and Game of Thrones.[47] In 2024, Jujutsu Kaisen broke the Guinness World Record for the \"Most in-demand animated TV show\" with a global demand rating 71.2 times than that of the average TV show, previously held by Attack on Titan.[48][49]\n",
      "\n",
      "Attributes\n",
      "\n",
      "Anime artists employ many distinct visual styles.\n",
      "Clockwise from the top left: Dead Leaves, Flag, Serial Experiments Lain, Monster, Mind Game, Lucky Star, Cat Soup, and Gurren Lagann.\n",
      "Anime differs from other forms of animation by its art styles, methods of animation, its production, and its process. Visually, anime works exhibit a wide variety of art styles, differing between creators, artists, and studios.[50] While no single art style predominates anime as a whole, they do share some similar attributes in terms of animation technique and character design.\n",
      "\n",
      "Anime is fundamentally characterized by the use of limited animation, flat expression, the suspension of time, its thematic range, the presence of historical figures, its complex narrative line and, above all, a peculiar drawing style, with characters characterized by large and oval eyes, with very defined lines, bright colors and reduced movement of the lips.[51][52]\n",
      "\n",
      "Technique\n",
      "Modern anime follows a typical animation production process, involving storyboarding, voice acting, character design, and cel production. Since the 1990s, animators have increasingly used computer animation to improve the efficiency of the production process. Early anime works were experimental, and consisted of images drawn on blackboards, stop motion animation of paper cutouts, and silhouette animation.[53][54] Cel animation grew in popularity until it came to dominate the medium. In the 21st century, the use of other animation techniques is mostly limited to independent short films,[55] including the stop motion puppet animation work produced by Tadahito Mochinaga, Kihachirō Kawamoto and Tomoyasu Murata.[56][57] Computers were integrated into the animation process in the 1990s, with works such as Ghost in the Shell and Princess Mononoke mixing cel animation with computer-generated images.[58] Fuji Film, a major cel production company, announced it would stop cel production, producing an industry panic to procure cel imports and hastening the switch to digital processes.[58]\n",
      "\n",
      "Prior to the digital era, anime was produced with traditional animation methods using a pose to pose approach.[53] The majority of mainstream anime uses fewer expressive key frames and more in-between animation.[59]\n",
      "\n",
      "Japanese animation studios were pioneers of many limited animation techniques, and have given anime a distinct set of conventions. Unlike Disney animation, where the emphasis is on the movement, anime emphasizes the art quality and let limited animation techniques make up for the lack of time spent on movement. Such techniques are often used not only to meet deadlines but also as artistic devices.[60] Anime scenes place emphasis on achieving three-dimensional views, and backgrounds are instrumental in creating the atmosphere of the work.[20] The backgrounds are not always invented and are occasionally based on real locations, as exemplified in Howl's Moving Castle and The Melancholy of Haruhi Suzumiya.[61][better source needed] Oppliger stated that anime is one of the rare mediums where putting together an all-star cast usually comes out looking \"tremendously impressive\".[62]\n",
      "\n",
      "The cinematic effects of anime differentiates itself from the stage plays found in American animation. Anime is cinematically shot as if by camera, including panning, zooming, distance and angle shots to more complex dynamic shots that would be difficult to produce in reality.[63][64][65] In anime, the animation is produced before the voice acting, contrary to American animation which does the voice acting first.[66]\n",
      "\n",
      "Characters\n",
      "\n",
      "Anime character design is diverse, but often incorporates common elements depending on the target demographic and era. These are representative samples.\n",
      "Clockwise from the top left: Ashita no Joe (1970), Macross: Do You Remember Love? (1984), Ghost in the Shell (1995), K-On! (2009), Your Name (2016), The Hidden Dungeon Only I Can Enter (2021), Fruits Basket (2001), and Rurouni Kenshin (1996).\n",
      "The body proportions of human anime characters tend to accurately reflect the proportions of the human body in reality. The height of the head is considered by the artist as the base unit of proportion. Head to height ratios vary drastically by art style, with most anime characters falling between 5 and 8 heads tall. Anime artists occasionally make deliberate modifications to body proportions to produce chibi characters that feature a disproportionately small body compared to the head; many chibi characters are two to four heads tall. Some anime works like Crayon Shin-chan completely disregard these proportions, in such a way that they resemble caricatured Western cartoons.\n",
      "\n",
      "A common anime character design convention is exaggerated eye size. The animation of characters with large eyes in anime can be traced back to Osamu Tezuka, who was deeply influenced by such early animation characters as Betty Boop, who was drawn with disproportionately large eyes.[67] Tezuka is a central figure in anime and manga history, whose iconic art style and character designs allowed for the entire range of human emotions to be depicted solely through the eyes.[68] The artist adds variable color shading to the eyes and particularly to the cornea to give them greater depth. Generally, a mixture of a light shade, the tone color, and a dark shade is used.[69][70] However, not all anime characters have large eyes. For example, the works of Hayao Miyazaki are known for having realistically proportioned eyes, as well as realistic hair colors on their characters.[71]\n",
      "\n",
      "Hair in anime is often unnaturally lively and colorful or uniquely styled. The movement of hair in anime is exaggerated and \"hair actions\" is used to emphasize the action and emotions of characters for added visual effect.[72] Gilles Poitras traces hairstyle color to cover illustrations on manga, where eye-catching artwork and colorful tones are attractive for children's manga.[72] Some anime will depict non-Japanese characters with specific ethnic features, such as a pronounced nose and jutting jaw for European characters.[73] In other cases, anime feature characters whose race or nationality is not always defined, and this is often a deliberate decision, such as in the Pokémon animated series.[74]\n",
      "\n",
      "Anime and manga artists often draw from a common canon of iconic facial expression illustrations to denote particular moods and thoughts.[75] These techniques are often different in form than their counterparts in Western animation, and they include a fixed iconography that is used as shorthand for certain emotions and moods.[76] For example, a male character may develop a nosebleed when aroused.[76] A variety of visual symbols are employed, including sweat drops to depict nervousness, visible blushing for embarrassment, or glowing eyes for an intense glare.[77] Another recurring sight gag is the use of chibi (deformed, simplified character designs) figures to comedically punctuate emotions like confusion or embarrassment.[76]\n",
      "\n",
      "Music\n",
      "See also: Anime composer and Anime song\n",
      "An example of a 2022 anime video with music\n",
      "The opening and credits sequences of most anime television series are accompanied by J-pop or J-rock songs, often by reputed bands—as written with the series in mind—but are also aimed at the general music market, therefore they often allude only vaguely or not at all, to the thematic settings or plot of the series. Also, they are often used as incidental music (\"insert songs\") in an episode, in order to highlight particularly important scenes.[78][better source needed]\n",
      "\n",
      "Future funk, a musical microgenre that evolved in the early 2010s from Vaporwave with a French house Euro disco influence, heavily uses anime visuals and samples along with Japanese City pop to build an aesthetic.[79]\n",
      "\n",
      "Since the 2020s anime songs have experienced a rapid growth in global online popularity due to their widened availability on music streaming services like Spotify and promotion by fans and artists on social media.[80] In 2023, the opening theme \"Idol\" by Yoasobi of the anime series Oshi no Ko topped the Billboard Global 200 Excl. U.S. charts with 45.7 million streams and 24,000 copies sold outside the U.S. \"Idol\" has become the first Japanese song and anime song to top the Billboard Global chart as well as taking the first spot on the Apple Music's Top 100: Global chart.[81][82]\n",
      "\n",
      "Genres\n",
      "Anime are often classified by target demographic, including children's (子供, kodomo), girls' (少女, shōjo), boys' (少年, shōnen), young men (青年, Seinen), young women (女性, josei) and a diverse range of genres targeting an adult audience. Shōjo and shōnen anime sometimes contain elements popular with children of all genders in an attempt to gain crossover appeal. Adult anime may feature a slower pace or greater plot complexity that younger audiences may typically find unappealing, as well as adult themes and situations.[83] A subset of adult anime works featuring pornographic elements are labeled \"R18\" in Japan, and are internationally known as hentai (originating from pervert (変態, hentai)). By contrast, some anime subgenres incorporate ecchi, sexual themes or undertones without depictions of sexual intercourse, as typified in the comedic or harem genres; due to its popularity among adolescent and adult anime enthusiasts, the inclusion of such elements is considered a form of fan service.[84][85] Some genres explore homosexual romances, such as yaoi (male homosexuality) and yuri (female homosexuality). While often used in a pornographic context, the terms yaoi and yuri can also be used broadly in a wider context to describe or focus on the themes or the development of the relationships themselves.[86]\n",
      "\n",
      "Anime's genre classification differs from other types of animation and does not lend itself to simple classification.[87] Gilles Poitras compared the labeling of Gundam 0080 and its complex depiction of war as a \"giant robot\" anime akin to simply labeling War and Peace a \"war novel\".[87] Science fiction is a major anime genre and includes important historical works like Tezuka's Astro Boy and Yokoyama's Tetsujin 28-go. A major subgenre of science fiction is mecha, with the Gundam metaseries being iconic.[88] The diverse fantasy genre includes works based on Asian and Western traditions and folklore; examples include the Japanese feudal fairytale InuYasha, and the depiction of Scandinavian goddesses who move to Japan to maintain a computer called Yggdrasil in Ah! My Goddess.[89] Genre crossing in anime is also prevalent, such as the blend of fantasy and comedy in Dragon Half, and the incorporation of slapstick humor in the crime anime film Castle of Cagliostro.[90] Other subgenres found in anime include magical girl, harem, sports, martial arts, literary adaptations, medievalism,[91] and war.[92]\n",
      "\n",
      "Formats\n",
      "Early anime works were made for theatrical viewing, and required played musical components before sound and vocal components were added to the production. In 1958, Nippon Television aired Mogura no Abanchūru (\"Mole's Adventure\"), both the first televised and first color anime to debut.[93] It was not until the 1960s when the first televised series were broadcast and it has remained a popular medium since.[94] Works released in a direct-to-video format are called \"original video animation\" (OVA) or \"original animation video\" (OAV); and are typically not released theatrically or televised prior to home media release.[95][96][better source needed] The emergence of the Internet has led some animators to distribute works online in a format called \"original net animation\" (ONA).[97][better source needed]\n",
      "\n",
      "The home distribution of anime releases was popularized in the 1980s with the VHS and LaserDisc formats.[95] The VHS NTSC video format used in both Japan and the United States is credited with aiding the rising popularity of anime in the 1990s.[95] The LaserDisc and VHS formats were transcended by the DVD format which offered the unique advantages; including multiple subtitling and dubbing tracks on the same disc.[98] The DVD format also has its drawbacks in its usage of region coding; adopted by the industry to solve licensing, piracy and export problems and restricted region indicated on the DVD player.[98] The Video CD (VCD) format was popular in Hong Kong and Taiwan, but became only a minor format in the United States that was closely associated with bootleg copies.[98]\n",
      "\n",
      "A key characteristic of many anime television shows is serialization, where a continuous story arc stretches over multiple episodes or seasons. Traditional American television had an episodic format, with each episode typically consisting of a self-contained story. In contrast, anime shows such as Dragon Ball Z had a serialization format, where continuous story arcs stretch over multiple episodes or seasons, which distinguished them from traditional American television shows; serialization has since also become a common characteristic of American streaming television shows during the \"Peak TV\" era.[99]\n",
      "\n",
      "Industry\n",
      "See also: List of anime companies and List of Japanese animation studios\n",
      "\n",
      "Akihabara district of Tokyo is popular with anime and manga fans as well as otaku subculture in Japan.\n",
      "The animation industry consists of more than 430 production companies with some of the major studios including Toei Animation, Gainax, Madhouse, Gonzo, Sunrise, Bones, TMS Entertainment, Nippon Animation, P.A.Works, Studio Pierrot, Production I.G, Ufotable and Studio Ghibli.[100] Many of the studios are organized into a trade association, The Association of Japanese Animations. There is also a labor union for workers in the industry, the Japanese Animation Creators Association. Studios will often work together to produce more complex and costly projects, as done with Studio Ghibli's Spirited Away.[100] An anime episode can cost between US$100,000 and US$300,000 to produce.[101] In 2001, animation accounted for 7% of the Japanese film market, above the 4.6% market share for live-action works.[100] The popularity and success of anime is seen through the profitability of the DVD market, contributing nearly 70% of total sales.[100] According to a 2016 article on Nikkei Asian Review, Japanese television stations have bought over ¥60 billion worth of anime from production companies \"over the past few years\", compared with under ¥20 billion from overseas.[102] There has been a rise in sales of shows to television stations in Japan, caused by late night anime with adults as the target demographic.[102] This type of anime is less popular outside Japan, being considered \"more of a niche product\".[102] Spirited Away (2001) was the all-time highest-grossing film in Japan until overtaken by Demon Slayer: Kimetsu no Yaiba – The Movie: Mugen Train in 2020.[103][104][105] It was also the highest-grossing anime film worldwide until it was overtaken by Makoto Shinkai's 2016 film Your Name.[106] Anime films represent a large part of the highest-grossing Japanese films yearly in Japan, with 6 out of the top 10 in 2014, 2015 and also in 2016.\n",
      "\n",
      "Anime has to be licensed by companies in other countries in order to be legally released. While anime has been licensed by its Japanese owners for use outside Japan since at least the 1960s, the practice became well-established in the United States in the late 1970s to early 1980s, when such TV series as Gatchaman and Captain Harlock were licensed from their Japanese parent companies for distribution in the US market. The trend towards American distribution of anime continued into the 1980s with the licensing of titles such as Voltron and the 'creation' of new series such as Robotech through the use of source material from several original series.[107]\n",
      "\n",
      "In the early 1990s, several companies began to experiment with the licensing of less child-oriented material. Some, such as A.D. Vision, and Central Park Media and its imprints, achieved fairly substantial commercial success and went on to become major players in the now very lucrative American anime market. Others, such as AnimEigo, achieved limited success. Many companies created directly by Japanese parent companies did not do as well, most releasing only one or two titles before completing their American operations.\n",
      "\n",
      "Licenses are expensive, often hundreds of thousands of dollars for one series and tens of thousands for one movie.[108] The prices vary widely; for example, Jinki: Extend cost only $91,000 to license while Kurau Phantom Memory cost $960,000.[108] Simulcast Internet streaming rights can be cheaper, with prices around $1,000–2,000 an episode,[109] but can also be more expensive, with some series costing more than US$200,000 per episode.[110]\n",
      "\n",
      "The anime market for the United States was worth approximately $2.74 billion in 2009.[111] Dubbed animation began airing in the United States in 2000 on networks like The WB and Cartoon Network's Adult Swim.[112] In 2005, this resulted in five of the top ten anime titles having previously aired on Cartoon Network.[112] As a part of localization, some editing of cultural references may occur to better follow the references of the non-Japanese culture.[113] The cost of English localization averages US$10,000 per episode.[114]\n",
      "\n",
      "The industry has been subject to both praise and condemnation for fansubs, the addition of unlicensed and unauthorized subtitled translations of anime series or films.[115] Fansubs, which were originally distributed on VHS bootlegged cassettes in the 1980s, have been freely available and disseminated online since the 1990s.[115] Since this practice raises concerns for copyright and piracy issues, fansubbers tend to adhere to an unwritten moral code to destroy or no longer distribute an anime once an official translated or subtitled version becomes licensed. They also try to encourage viewers to buy an official copy of the release once it comes out in English, although fansubs typically continue to circulate through file-sharing networks.[116] Even so, the laid back regulations of the Japanese animation industry tend to overlook these issues, allowing it to grow underground and thus increasing its popularity until there is a demand for official high-quality releases for animation companies. This has led to an increase in global popularity of Japanese animation, reaching $40 million in sales in 2004.[117] Fansub practices have rapidly declined since the early-2010s due to the advent of legal streaming services which simulcast new anime series often within a few hours of their domestic release.[118]\n",
      "\n",
      "Since the 2010s, anime has become a global multibillion industry setting a sales record in 2017 of ¥2.15 trillion ($19.8 billion), driven largely by demand from overseas audiences.[119] In 2019, Japan's anime industry was valued at $24 billion a year with 48% of that revenue coming from overseas (which is now its largest industry sector).[120] By 2025 the anime industry is expected to reach a value of $30 billion with over 60% of that revenue coming from overseas.[121]\n",
      "\n",
      "Markets\n",
      "Japan External Trade Organization (JETRO) valued the domestic anime market in Japan at ¥2.4 trillion ($24 billion), including ¥2 trillion from licensed products, in 2005.[122] JETRO reported sales of overseas anime exports in 2004 to be ¥2 trillion ($18 billion).[123] JETRO valued the anime market in the United States at ¥520 billion ($5.2 billion),[122] including $500 million in home video sales and over $4 billion from licensed products, in 2005.[124] JETRO projected in 2005 that the worldwide anime market, including sales of licensed products, would grow to ¥10 trillion ($100 billion).[122][124] The anime market in China was valued at $21 billion in 2017,[125] and is projected to reach $31 billion by 2020.[126] In Europe the anime merchandising market was valued at about $950 million with the figurine segment accounting for most of the share and is expected to reach a value of over $2 billion by 2030.[127] The global anime market size was valued at $26.055 billion in 2021 with 29% of the revenue coming from merchandise. It is expected that the global anime market will reach a value of $47.14 billion by 2028.[128][129] In 2023 the anime industry generated a $19.8 billion in total global revenue, including $5.5 billion from streaming and $14.3 billion from merchandising sales. North America and Asia contributed a combined $14.3 billion in total revenue, accounting for over 72% of anime's global impact.[130][131] By 2030 the global anime market is expected to reach a value of $48.3 Billion with the largest contributors to this growth being North America, Europe, Asia–Pacific and The Middle East.[132] The global anime market size was valued at $25.8 Billion in 2022 and is expected to have a market size of $62.7 Billion by 2032 with a CAGR of 9.4%.[133][134][135] In 2019, the annual overseas exports of Japanese animation exceeded $10 billion for the first time in history.[136]\n",
      "\n",
      "Awards\n",
      "The anime industry has several annual awards that honor the year's best works. Major annual awards in Japan include the Ōfuji Noburō Award, the Mainichi Film Award for Best Animation Film, the Animation Kobe Awards, the Japan Media Arts Festival animation awards, the Seiyu Awards for voice actors, the Tokyo Anime Award and the Japan Academy Prize for Animation of the Year. In the United States, anime films compete in the Crunchyroll Anime Awards. There were also the American Anime Awards, which were designed to recognize excellence in anime titles nominated by the industry, and were held only once in 2006.[137] Anime productions have also been nominated and won awards not exclusively for anime, like the Academy Award for Best Animated Feature or the Golden Bear.\n",
      "\n",
      "Working conditions\n",
      "In recent years, the anime industry has been accused by both Japanese and foreign media of underpaying and overworking its animators.[138][139][140] In response the Japanese Prime Minister Fumio Kishida promised to improve the working conditions and salary of all animators and creators working in the industry.[141] A few anime studios such as MAPPA have taken actions to improve the working conditions of their employees.[142] There has also been a slight increase in production costs and animator pays during the COVID-19 pandemic.[143] Throughout 2020 and 2021 the American streaming service Netflix announced that it will greatly invest and fund the anime industry as well as support training programs for new animators.[144][145][146] On April 27, 2023, Nippon Anime Film Culture Association (NAFCA) was officially founded. The association aims to solve problems in the industry, including the improvement of conditions of the worker\n"
     ]
    }
   ],
   "source": [
    "# practicle: Reading large files\n",
    "def read_large_file(file_path):\n",
    "    with open(file_path, 'r') as file:\n",
    "        for line in file:\n",
    "            yield line\n",
    "\n",
    "file_path = 'large_file.txt'\n",
    "for line in read_large_file(file_path):\n",
    "    print(line.strip())"
   ]
  },
  {
   "cell_type": "code",
   "execution_count": null,
   "metadata": {},
   "outputs": [],
   "source": []
  }
 ],
 "metadata": {
  "kernelspec": {
   "display_name": "Python 3",
   "language": "python",
   "name": "python3"
  },
  "language_info": {
   "codemirror_mode": {
    "name": "ipython",
    "version": 3
   },
   "file_extension": ".py",
   "mimetype": "text/x-python",
   "name": "python",
   "nbconvert_exporter": "python",
   "pygments_lexer": "ipython3",
   "version": "3.12.0"
  }
 },
 "nbformat": 4,
 "nbformat_minor": 2
}
