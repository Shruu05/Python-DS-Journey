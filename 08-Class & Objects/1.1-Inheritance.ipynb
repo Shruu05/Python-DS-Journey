{
 "cells": [
  {
   "cell_type": "code",
   "execution_count": 3,
   "metadata": {},
   "outputs": [
    {
     "name": "stdout",
     "output_type": "stream",
     "text": [
      "The person will drive the petrol car\n",
      "None\n"
     ]
    }
   ],
   "source": [
    "#parent class\n",
    "class Car:\n",
    "    def __init__(self, window, doors, enginetype):\n",
    "        self.window = window\n",
    "        self.doors = doors\n",
    "        self.enginetype = enginetype\n",
    "    def drive(self):\n",
    "        print(f\"The person will drive the {self.enginetype} car\")\n",
    "car1 = Car(4, 5, \"petrol\")\n",
    "print(car1.drive())"
   ]
  },
  {
   "cell_type": "code",
   "execution_count": 6,
   "metadata": {},
   "outputs": [
    {
     "name": "stdout",
     "output_type": "stream",
     "text": [
      "4 5 electric True\n",
      "The person will drive the electric car\n"
     ]
    }
   ],
   "source": [
    "# Child class\n",
    "class Tesla(Car):\n",
    "    def __init__(self, window, doors, enginetype, is_selfdriving):\n",
    "        super().__init__(window, doors, enginetype)\n",
    "        self.is_selfdriving = is_selfdriving\n",
    "    def selfdriving(self):\n",
    "        print(f\"Tesla supports self driving:{self.is_selfdriving}\")\n",
    "a = Tesla(4,5,\"electric\", True)\n",
    "print(a.window, a.doors, a.enginetype, a.is_selfdriving )\n",
    "a.drive()"
   ]
  },
  {
   "cell_type": "code",
   "execution_count": 14,
   "metadata": {},
   "outputs": [
    {
     "name": "stdout",
     "output_type": "stream",
     "text": [
      "Mimi say meow\n",
      "Shruti is owner of Mimi\n"
     ]
    }
   ],
   "source": [
    "# multiple inheritance\n",
    "class Animal:\n",
    "    def __init__(self, name):\n",
    "        self.name = name\n",
    "    def speak(self):\n",
    "        print(\"Subclass must implement this method\")\n",
    "class Pet:\n",
    "    def __init__(self, owner):\n",
    "        self.owner = owner\n",
    "class Cat(Animal, Pet):\n",
    "    def __init__(self, name, owner):\n",
    "        Animal.__init__(self, name)\n",
    "        Pet.__init__(self, owner)\n",
    "    def speak(self):\n",
    "        print(f\"{self.name} say meow\")\n",
    "cat = Cat(\"Mimi\",\"Shruti\")\n",
    "cat.speak()\n",
    "print(f\"{cat.owner} is owner of {cat.name}\")\n"
   ]
  },
  {
   "cell_type": "code",
   "execution_count": null,
   "metadata": {},
   "outputs": [],
   "source": []
  }
 ],
 "metadata": {
  "kernelspec": {
   "display_name": "Python 3",
   "language": "python",
   "name": "python3"
  },
  "language_info": {
   "codemirror_mode": {
    "name": "ipython",
    "version": 3
   },
   "file_extension": ".py",
   "mimetype": "text/x-python",
   "name": "python",
   "nbconvert_exporter": "python",
   "pygments_lexer": "ipython3",
   "version": "3.12.0"
  }
 },
 "nbformat": 4,
 "nbformat_minor": 2
}
