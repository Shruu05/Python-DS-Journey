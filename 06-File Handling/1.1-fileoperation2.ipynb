{
 "cells": [
  {
   "cell_type": "code",
   "execution_count": 2,
   "metadata": {},
   "outputs": [],
   "source": [
    "# writing to a binary file\n",
    "data = b'\\x00\\x01\\x01\\x03\\x04'\n",
    "with open('example.bin', 'wb') as file:\n",
    "    file.write(data)"
   ]
  },
  {
   "cell_type": "code",
   "execution_count": 3,
   "metadata": {},
   "outputs": [
    {
     "name": "stdout",
     "output_type": "stream",
     "text": [
      "b'\\x00\\x01\\x01\\x03\\x04'\n"
     ]
    }
   ],
   "source": [
    "# Reading the binary file\n",
    "with open('example.bin', 'rb') as file:\n",
    "    content = file.read()\n",
    "    print(content)"
   ]
  },
  {
   "cell_type": "code",
   "execution_count": 4,
   "metadata": {},
   "outputs": [],
   "source": [
    "# read content from source and write to destination text file\n",
    "with open('example.txt', 'r') as source_file:\n",
    "    content = source_file.read()\n",
    "with open('destination.txt', 'w') as destination_file:\n",
    "    destination_file.write(content)"
   ]
  },
  {
   "cell_type": "code",
   "execution_count": 7,
   "metadata": {},
   "outputs": [
    {
     "name": "stdout",
     "output_type": "stream",
     "text": [
      "Lines:4, Words:14, Characters:16\n"
     ]
    }
   ],
   "source": [
    "# read file and count the number of lines, words and characters\n",
    "def count_text_file(file_path):\n",
    "    with open(file_path, 'r') as file:\n",
    "        lines = file.readlines()\n",
    "        line_count = len(lines)\n",
    "        word_count = sum(len(line.split()) for line in lines)\n",
    "        char_count = sum(len(lines) for line in lines)\n",
    "    return line_count, word_count, char_count\n",
    "file_path = 'example.txt'\n",
    "lines,words,characters = count_text_file(file_path)\n",
    "print(f'Lines:{lines}, Words:{words}, Characters:{characters}')"
   ]
  },
  {
   "cell_type": "code",
   "execution_count": 10,
   "metadata": {},
   "outputs": [
    {
     "name": "stdout",
     "output_type": "stream",
     "text": [
      "Hello World\n",
      "This is new line\n",
      "\n"
     ]
    }
   ],
   "source": [
    "# writing & then reading file\n",
    "with open('example.txt', 'w+') as file:\n",
    "    file.write('Hello World\\n')\n",
    "    file.write(\"This is new line\\n\")\n",
    "    # move file corser to the beginning\n",
    "    file.seek(0)\n",
    "    #read the content of the file \n",
    "    content = file.read()\n",
    "    print(content)"
   ]
  },
  {
   "cell_type": "code",
   "execution_count": null,
   "metadata": {},
   "outputs": [],
   "source": []
  }
 ],
 "metadata": {
  "kernelspec": {
   "display_name": "venv",
   "language": "python",
   "name": "python3"
  },
  "language_info": {
   "codemirror_mode": {
    "name": "ipython",
    "version": 3
   },
   "file_extension": ".py",
   "mimetype": "text/x-python",
   "name": "python",
   "nbconvert_exporter": "python",
   "pygments_lexer": "ipython3",
   "version": "3.12.0"
  }
 },
 "nbformat": 4,
 "nbformat_minor": 2
}
