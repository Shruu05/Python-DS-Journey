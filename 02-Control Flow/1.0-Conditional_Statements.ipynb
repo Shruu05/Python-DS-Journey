{
 "cells": [
  {
   "cell_type": "code",
   "execution_count": 1,
   "metadata": {},
   "outputs": [
    {
     "name": "stdout",
     "output_type": "stream",
     "text": [
      "You are allowed to vote\n"
     ]
    }
   ],
   "source": [
    "# if statements\n",
    "age = 20\n",
    "if age>=18:\n",
    "    print(\"You are allowed to vote\")"
   ]
  },
  {
   "cell_type": "code",
   "execution_count": 2,
   "metadata": {},
   "outputs": [
    {
     "name": "stdout",
     "output_type": "stream",
     "text": [
      "You are a minor\n"
     ]
    }
   ],
   "source": [
    "# else statement\n",
    "age = 16\n",
    "if age>=18:\n",
    "    print(\"You are allowed to vote\")\n",
    "else:\n",
    "    print(\"You are a minor\")"
   ]
  },
  {
   "cell_type": "code",
   "execution_count": 4,
   "metadata": {},
   "outputs": [
    {
     "name": "stdout",
     "output_type": "stream",
     "text": [
      "You are a teenager\n"
     ]
    }
   ],
   "source": [
    "# elif statement\n",
    "# allows you to check multiple conditions\n",
    "age = 15\n",
    "if age<13:\n",
    "    print(\"You are a child\")\n",
    "elif age<18:\n",
    "    print(\"You are a teenager\")\n",
    "else:\n",
    "    print(\"You are a adult\")"
   ]
  },
  {
   "cell_type": "code",
   "execution_count": 5,
   "metadata": {},
   "outputs": [
    {
     "name": "stdout",
     "output_type": "stream",
     "text": [
      "The number is position\n",
      "The number is even\n"
     ]
    }
   ],
   "source": [
    "# Nested conditional statements\n",
    "# Check if number is even or odd\n",
    "num =  int(input(\"Enter the number:\"))\n",
    "if num>=0:\n",
    "    print(\"The number is position\")\n",
    "    if num%2==0:\n",
    "        print(\"The number is even\")\n",
    "    else:\n",
    "        print(\"The number is odd\")\n",
    "else:\n",
    "    print(\"The number is negative\")"
   ]
  },
  {
   "cell_type": "code",
   "execution_count": 6,
   "metadata": {},
   "outputs": [
    {
     "name": "stdout",
     "output_type": "stream",
     "text": [
      "2024 is not a leap year\n"
     ]
    }
   ],
   "source": [
    "#Check if year is leap year\n",
    "year = int(input(\"Enter the year:\"))\n",
    "if year%4==0:\n",
    "    if year%100==0:\n",
    "        if year%400==0:\n",
    "            print(year,\"is a leap year\")\n",
    "        else:\n",
    "            print(year,\"is not a leap year\")\n",
    "    else:\n",
    "        print(year, \"is not a leap year\")\n",
    "else:\n",
    "    print(year, \"is not a leap year\")"
   ]
  },
  {
   "cell_type": "markdown",
   "metadata": {},
   "source": [
    "Assignment"
   ]
  },
  {
   "cell_type": "code",
   "execution_count": 9,
   "metadata": {},
   "outputs": [
    {
     "name": "stdout",
     "output_type": "stream",
     "text": [
      "3\n"
     ]
    }
   ],
   "source": [
    "# create a calculator\n",
    "a = int(input(\"Enter first number:\"))\n",
    "b = int(input(\"Enter second number:\"))\n",
    "c = input(\"Enter any operator (+,-,*,/,%,**, //):\")\n",
    "\n",
    "\n",
    "if (c == '+'):\n",
    "    print(a + b)\n",
    "elif (c == '-'):\n",
    "    print(a-b)\n",
    "elif (c == '*'):\n",
    "    print(a*b)\n",
    "elif (c == '/'):\n",
    "    print(a/b)\n",
    "elif (c == '%'):\n",
    "    print(a%b)\n",
    "elif (c == '**'):\n",
    "    print(a**b)\n",
    "elif (c == '//'):\n",
    "    print(a//b)\n",
    "else:\n",
    "    print(\"Error\")"
   ]
  },
  {
   "cell_type": "code",
   "execution_count": 18,
   "metadata": {},
   "outputs": [
    {
     "name": "stdout",
     "output_type": "stream",
     "text": [
      "Ticket price is free\n"
     ]
    }
   ],
   "source": [
    "# Determine ticket price based on age\n",
    "age = int(input(\"Enter your age:\"))\n",
    "is_student = input(\"Are you student (yes/no)?\").lower()\n",
    "\n",
    "if age<=5:\n",
    "    print(\"Ticket is free\")\n",
    "elif (5<age<12):\n",
    "    if (is_student=='yes'):\n",
    "        print(\"Ticket price is 10 rs\")\n",
    "    else:\n",
    "        print(\"Ticket price is 15 rs\")\n",
    "elif (12<age<18):\n",
    "    if (is_student=='yes'):\n",
    "        print(\"Ticket price is 15 rs\")\n",
    "    else:\n",
    "        print(\"Ticket price 20 rs\")\n",
    "elif (18<age<60):\n",
    "    if (is_student=='yes'):\n",
    "        print(\"Ticket price is 20 rs\")\n",
    "    else:\n",
    "        print(\"Ticket price 25 rs\")\n",
    "elif (age>60):\n",
    "    print(\"Ticket price is free\")\n",
    "else:\n",
    "    print(\"Enter details correctly\")\n",
    "    \n",
    "    "
   ]
  },
  {
   "cell_type": "code",
   "execution_count": null,
   "metadata": {},
   "outputs": [],
   "source": []
  }
 ],
 "metadata": {
  "kernelspec": {
   "display_name": "venv",
   "language": "python",
   "name": "python3"
  },
  "language_info": {
   "codemirror_mode": {
    "name": "ipython",
    "version": 3
   },
   "file_extension": ".py",
   "mimetype": "text/x-python",
   "name": "python",
   "nbconvert_exporter": "python",
   "pygments_lexer": "ipython3",
   "version": "3.12.0"
  }
 },
 "nbformat": 4,
 "nbformat_minor": 2
}
